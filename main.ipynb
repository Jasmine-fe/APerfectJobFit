{
 "cells": [
  {
   "cell_type": "code",
   "execution_count": 10,
   "source": [
    "import re\n",
    "import sys\n",
    "import difflib\n",
    "import itertools\n",
    "import pandas as pd\n",
    "from itertools import groupby\n",
    "from operator import itemgetter\n",
    "from sklearn.metrics.pairwise import cosine_similarity\n",
    "from sklearn.feature_extraction.text import CountVectorizer\n",
    "from gensim.summarization import keywords\n",
    "from gensim.summarization.summarizer import summarize\n",
    "\n",
    "import nltk\n",
    "from nltk.stem.porter import PorterStemmer\n",
    "porter_stemmer = PorterStemmer()\n",
    "from nltk.stem.lancaster import LancasterStemmer\n",
    "lancaster_stemmer = LancasterStemmer()\n",
    "from nltk.stem import SnowballStemmer\n",
    "snowball_stemmer = SnowballStemmer('english')\n",
    "from nltk.stem import WordNetLemmatizer\n",
    "wordnet_lemmatizer = WordNetLemmatizer()\n",
    "from nltk.corpus import stopwords\n",
    "stops = stopwords.words('english')\n",
    "from string import punctuation\n",
    "\n",
    "import importlib\n",
    "# importlib.reload(sys.modules['Common'])\n",
    "from Common import getFileNameInDirectory, extractPDFContent, groupbyFirstLetter, getselectedAndUniqueKeywords, filterSimilarityWords, getMatchScore, extractTXTContent, getKeyWords, getSummarization, generateDFtoHTML"
   ],
   "outputs": [],
   "metadata": {}
  },
  {
   "cell_type": "code",
   "execution_count": 11,
   "source": [
    "# get content\n",
    "\n",
    "jobDescriptionDirPath = './Data/JobDescription'\n",
    "jobDescriptionFileList = getFileNameInDirectory(jobDescriptionDirPath)\n",
    "jobDescriptionTextList = [ extractTXTContent(filePath=f'{jobDescriptionDirPath}/{fileName}') for fileName in jobDescriptionFileList]\n",
    "\n",
    "resumePath = './resume_v2.pdf'\n",
    "resumeText = extractPDFContent(resumePath)\n",
    "# resumeTextList = resumeText.split('\\n')"
   ],
   "outputs": [],
   "metadata": {}
  },
  {
   "cell_type": "code",
   "execution_count": 12,
   "source": [
    "info = pd.DataFrame(columns=['Company', 'MatchScore', 'KeyWords', 'Summarization'])"
   ],
   "outputs": [],
   "metadata": {}
  },
  {
   "cell_type": "code",
   "execution_count": 13,
   "source": [
    "for idx, companyName in enumerate(jobDescriptionFileList):\n",
    "    company = re.sub(r\"\\.\\w*\", \"\", companyName)\n",
    "    jobDescriptionText = jobDescriptionTextList[idx]\n",
    "    matchScore = getMatchScore(jobDescriptionText, resumeText)\n",
    "    keyWords = getKeyWords(jobDescriptionText, keywordNum=10)\n",
    "    summarization = getSummarization(jobDescriptionText, ratio=0.1)\n",
    "    info = info.append({'Company':company, 'MatchScore': matchScore, 'KeyWords': keyWords,'Summarization': summarization}, ignore_index=True)"
   ],
   "outputs": [],
   "metadata": {}
  },
  {
   "cell_type": "code",
   "execution_count": null,
   "source": [
    "info.sort_values(by=['MatchScore'], ascending=False, inplace=True)\n",
    "info.set_index('Company', inplace=True)"
   ],
   "outputs": [],
   "metadata": {}
  },
  {
   "cell_type": "code",
   "execution_count": null,
   "source": [
    "generateDFtoHTML(info,index='Company', htmlFileName='Result')"
   ],
   "outputs": [],
   "metadata": {}
  }
 ],
 "metadata": {
  "orig_nbformat": 4,
  "language_info": {
   "name": "python",
   "version": "3.8.10",
   "mimetype": "text/x-python",
   "codemirror_mode": {
    "name": "ipython",
    "version": 3
   },
   "pygments_lexer": "ipython3",
   "nbconvert_exporter": "python",
   "file_extension": ".py"
  },
  "kernelspec": {
   "name": "python3",
   "display_name": "Python 3.8.10 64-bit (conda)"
  },
  "interpreter": {
   "hash": "83cc56e4fb676343596d0be67276f0d6d6c448e87913a0989f441102576e3583"
  }
 },
 "nbformat": 4,
 "nbformat_minor": 2
}