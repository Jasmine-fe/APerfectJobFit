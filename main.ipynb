{
 "cells": [
  {
   "cell_type": "code",
   "execution_count": 22,
   "source": [
    "import pdfplumber\n",
    "import itertools\n",
    "\n",
    "from sklearn.metrics.pairwise import cosine_similarity\n",
    "from sklearn.feature_extraction.text import CountVectorizer\n",
    "\n",
    "from gensim.summarization import keywords\n",
    "from gensim.summarization.summarizer import summarize"
   ],
   "outputs": [],
   "metadata": {}
  },
  {
   "cell_type": "code",
   "execution_count": 23,
   "source": [
    "def extractPDFContent(filePath):\n",
    "    pdf = pdfplumber.open(filePath)\n",
    "    page = pdf.pages[0]\n",
    "    text = page.extract_text(x_tolerance=3)\n",
    "    return text"
   ],
   "outputs": [],
   "metadata": {}
  },
  {
   "cell_type": "code",
   "execution_count": 25,
   "source": [
    "with open('./jobDesciption.txt') as f:\n",
    "    despLines = f.readlines()\n",
    "despText = ''.join(despLines)"
   ],
   "outputs": [],
   "metadata": {}
  },
  {
   "cell_type": "code",
   "execution_count": 26,
   "source": [
    "filePath = './resume_v2.pdf'\n",
    "resumeText = extractPDFContent(filePath)\n",
    "resumeTextList = resumeText.split('\\n')"
   ],
   "outputs": [],
   "metadata": {}
  },
  {
   "cell_type": "code",
   "execution_count": 27,
   "source": [
    "# Match Score\n",
    "inputText = [resumeText, despText]\n",
    "cv = CountVectorizer()\n",
    "count_matrix = cv.fit_transform(inputText)\n",
    "matchPercentage = round(cosine_similarity(count_matrix)[0][1] * 100, 2)\n",
    "print(f\"[ Resume Match Score ]\\n{matchPercentage}\")"
   ],
   "outputs": [
    {
     "output_type": "stream",
     "name": "stdout",
     "text": [
      "[ Resume Match Score ]\n",
      "65.78\n"
     ]
    }
   ],
   "metadata": {}
  },
  {
   "cell_type": "code",
   "execution_count": 28,
   "source": [
    "print(f\"[ Summary ]\\n{summarize(despText, ratio=0.1)}\")"
   ],
   "outputs": [
    {
     "output_type": "stream",
     "name": "stdout",
     "text": [
      "[ Summary ]\n",
      "We are looking for a Data Scientist who will support our product, sales, leadership and marketing teams with insights gained from analyzing company data.\n",
      "The ideal candidate is adept at using large data sets to find opportunities for product and process optimization and using models to test the effectiveness of different courses of action.\n",
      "Mine and analyze data from company databases to drive optimization and improvement of product development, marketing techniques and business strategies.\n"
     ]
    }
   ],
   "metadata": {}
  },
  {
   "cell_type": "code",
   "execution_count": 29,
   "source": [
    "# KeyWord\n",
    "print(f\"[ Keywords ]\\n{keywords(despText, ratio=0.1)}\") "
   ],
   "outputs": [
    {
     "output_type": "stream",
     "name": "stdout",
     "text": [
      "[ Keywords ]\n",
      "data\n",
      "business\n",
      "experience\n",
      "experiences\n",
      "models\n",
      "modeling\n",
      "model\n",
      "statistical\n",
      "statistics\n",
      "development\n",
      "develop\n",
      "techniques\n",
      "regression\n",
      "tools\n",
      "insights\n",
      "analysis\n",
      "tree\n",
      "trees\n",
      "outcomes\n",
      "job\n",
      "company\n"
     ]
    }
   ],
   "metadata": {}
  },
  {
   "cell_type": "code",
   "execution_count": null,
   "source": [
    "# from nltk import word_tokenize\n",
    "# from nltk.stem.porter import PorterStemmer\n",
    "# porter = PorterStemmer()\n",
    "# words = [ sentence.split() for sentence in despLines ]\n",
    "# wordList = list(itertools.chain(*words))\n",
    "# stemmedWords = [porter.stem(word) for word in wordList]\n",
    "# stemmedDespText = ' '.join(stemmedWords)"
   ],
   "outputs": [],
   "metadata": {}
  }
 ],
 "metadata": {
  "orig_nbformat": 4,
  "language_info": {
   "name": "python",
   "version": "3.8.10",
   "mimetype": "text/x-python",
   "codemirror_mode": {
    "name": "ipython",
    "version": 3
   },
   "pygments_lexer": "ipython3",
   "nbconvert_exporter": "python",
   "file_extension": ".py"
  },
  "kernelspec": {
   "name": "python3",
   "display_name": "Python 3.8.10 64-bit (conda)"
  },
  "interpreter": {
   "hash": "83cc56e4fb676343596d0be67276f0d6d6c448e87913a0989f441102576e3583"
  }
 },
 "nbformat": 4,
 "nbformat_minor": 2
}