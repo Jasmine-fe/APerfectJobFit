{
 "cells": [
  {
   "cell_type": "code",
   "execution_count": 108,
   "source": [
    "import pdfplumber\n",
    "import itertools\n",
    "import pandas as pd\n",
    "from sklearn.metrics.pairwise import cosine_similarity\n",
    "from sklearn.feature_extraction.text import CountVectorizer\n",
    "\n",
    "from gensim.summarization import keywords\n",
    "from gensim.summarization.summarizer import summarize\n",
    "\n",
    "import nltk\n",
    "\n",
    "from nltk.stem.porter import PorterStemmer\n",
    "porter_stemmer = PorterStemmer()\n",
    "from nltk.stem.lancaster import LancasterStemmer\n",
    "lancaster_stemmer = LancasterStemmer()\n",
    "from nltk.stem import SnowballStemmer\n",
    "snowball_stemmer = SnowballStemmer('english')\n",
    "from nltk.stem import WordNetLemmatizer\n",
    "wordnet_lemmatizer = WordNetLemmatizer()\n",
    "\n",
    "from nltk.corpus import stopwords\n",
    "stops = stopwords.words('english')\n",
    "from string import punctuation"
   ],
   "outputs": [],
   "metadata": {}
  },
  {
   "cell_type": "code",
   "execution_count": 109,
   "source": [
    "def extractPDFContent(filePath):\n",
    "    pdf = pdfplumber.open(filePath)\n",
    "    page = pdf.pages[0]\n",
    "    text = page.extract_text(x_tolerance=3)\n",
    "    return text"
   ],
   "outputs": [],
   "metadata": {}
  },
  {
   "cell_type": "code",
   "execution_count": 110,
   "source": [
    "with open('./jobDesciption.txt') as f:\n",
    "    jobDespLines = f.readlines()\n",
    "jobDespText = ''.join(jobDespLines)\n",
    "\n",
    "wordList = [ sentence.split() for sentence in jobDespLines ]\n",
    "flattenWordList = list(itertools.chain(*wordList))\n",
    "porter = PorterStemmer()\n",
    "stemmedWords = [porter.stem(words) for words in flattenWordList]\n",
    "stemmedJobDespText = ' '.join(stemmedWords)\n"
   ],
   "outputs": [],
   "metadata": {}
  },
  {
   "cell_type": "code",
   "execution_count": 111,
   "source": [
    "tokens = nltk.wordpunct_tokenize(jobDespText)"
   ],
   "outputs": [],
   "metadata": {}
  },
  {
   "cell_type": "code",
   "execution_count": 112,
   "source": [
    "tokenDf = pd.DataFrame(index = tokens)\n",
    "tokenDf['porter_stemmer'] = [porter_stemmer.stem(t) for t in tokens]\n",
    "tokenDf['lancaster_stemmer'] = [lancaster_stemmer.stem(t) for t in tokens]\n",
    "tokenDf['snowball_stemmer'] = [snowball_stemmer.stem(t) for t in tokens]\n",
    "tokenDf['wordnet_lemmatizer'] = [wordnet_lemmatizer.lemmatize(t) for t in tokens]"
   ],
   "outputs": [],
   "metadata": {}
  },
  {
   "cell_type": "code",
   "execution_count": 113,
   "source": [
    "keywordNum = 10"
   ],
   "outputs": [],
   "metadata": {}
  },
  {
   "cell_type": "code",
   "execution_count": 114,
   "source": [
    "idxs = list(tokenDf.columns)\n",
    "keywordDic = dict()\n",
    "for idx in idxs:\n",
    "    tokensList = list(tokenDf[idx])\n",
    "    text = ' '.join(tokensList)\n",
    "    keywordList = keywords(text, ratio=0.1).split('\\n')\n",
    "    keywordDic[idx] = keywordList[:keywordNum]"
   ],
   "outputs": [],
   "metadata": {}
  },
  {
   "cell_type": "code",
   "execution_count": 115,
   "source": [
    "keywordDf = pd.DataFrame.from_dict(keywordDic)\n",
    "keywordDf.index = keywords(jobDespText, ratio=0.1).split('\\n')[:keywordNum]"
   ],
   "outputs": [],
   "metadata": {}
  },
  {
   "cell_type": "code",
   "execution_count": 116,
   "source": [
    "keywordDf"
   ],
   "outputs": [
    {
     "output_type": "execute_result",
     "data": {
      "text/plain": [
       "             porter_stemmer lancaster_stemmer snowball_stemmer  \\\n",
       "data                   data               dat             data   \n",
       "business                use              busy              use   \n",
       "experience           experi            expery           experi   \n",
       "experiences           model             model            model   \n",
       "models                 busi           develop             busi   \n",
       "modeling            develop             techn          develop   \n",
       "model        statist comput              solv   statist comput   \n",
       "statistical         regress       stat comput          regress   \n",
       "statistics         techniqu    analys company         techniqu   \n",
       "development            tool           regress             tool   \n",
       "\n",
       "            wordnet_lemmatizer  \n",
       "data                      data  \n",
       "business              business  \n",
       "experience          experience  \n",
       "experiences              model  \n",
       "models                modeling  \n",
       "modeling           statistical  \n",
       "model               statistics  \n",
       "statistical          statistic  \n",
       "statistics         development  \n",
       "development            develop  "
      ],
      "text/html": [
       "<div>\n",
       "<style scoped>\n",
       "    .dataframe tbody tr th:only-of-type {\n",
       "        vertical-align: middle;\n",
       "    }\n",
       "\n",
       "    .dataframe tbody tr th {\n",
       "        vertical-align: top;\n",
       "    }\n",
       "\n",
       "    .dataframe thead th {\n",
       "        text-align: right;\n",
       "    }\n",
       "</style>\n",
       "<table border=\"1\" class=\"dataframe\">\n",
       "  <thead>\n",
       "    <tr style=\"text-align: right;\">\n",
       "      <th></th>\n",
       "      <th>porter_stemmer</th>\n",
       "      <th>lancaster_stemmer</th>\n",
       "      <th>snowball_stemmer</th>\n",
       "      <th>wordnet_lemmatizer</th>\n",
       "    </tr>\n",
       "  </thead>\n",
       "  <tbody>\n",
       "    <tr>\n",
       "      <th>data</th>\n",
       "      <td>data</td>\n",
       "      <td>dat</td>\n",
       "      <td>data</td>\n",
       "      <td>data</td>\n",
       "    </tr>\n",
       "    <tr>\n",
       "      <th>business</th>\n",
       "      <td>use</td>\n",
       "      <td>busy</td>\n",
       "      <td>use</td>\n",
       "      <td>business</td>\n",
       "    </tr>\n",
       "    <tr>\n",
       "      <th>experience</th>\n",
       "      <td>experi</td>\n",
       "      <td>expery</td>\n",
       "      <td>experi</td>\n",
       "      <td>experience</td>\n",
       "    </tr>\n",
       "    <tr>\n",
       "      <th>experiences</th>\n",
       "      <td>model</td>\n",
       "      <td>model</td>\n",
       "      <td>model</td>\n",
       "      <td>model</td>\n",
       "    </tr>\n",
       "    <tr>\n",
       "      <th>models</th>\n",
       "      <td>busi</td>\n",
       "      <td>develop</td>\n",
       "      <td>busi</td>\n",
       "      <td>modeling</td>\n",
       "    </tr>\n",
       "    <tr>\n",
       "      <th>modeling</th>\n",
       "      <td>develop</td>\n",
       "      <td>techn</td>\n",
       "      <td>develop</td>\n",
       "      <td>statistical</td>\n",
       "    </tr>\n",
       "    <tr>\n",
       "      <th>model</th>\n",
       "      <td>statist comput</td>\n",
       "      <td>solv</td>\n",
       "      <td>statist comput</td>\n",
       "      <td>statistics</td>\n",
       "    </tr>\n",
       "    <tr>\n",
       "      <th>statistical</th>\n",
       "      <td>regress</td>\n",
       "      <td>stat comput</td>\n",
       "      <td>regress</td>\n",
       "      <td>statistic</td>\n",
       "    </tr>\n",
       "    <tr>\n",
       "      <th>statistics</th>\n",
       "      <td>techniqu</td>\n",
       "      <td>analys company</td>\n",
       "      <td>techniqu</td>\n",
       "      <td>development</td>\n",
       "    </tr>\n",
       "    <tr>\n",
       "      <th>development</th>\n",
       "      <td>tool</td>\n",
       "      <td>regress</td>\n",
       "      <td>tool</td>\n",
       "      <td>develop</td>\n",
       "    </tr>\n",
       "  </tbody>\n",
       "</table>\n",
       "</div>"
      ]
     },
     "metadata": {},
     "execution_count": 116
    }
   ],
   "metadata": {}
  },
  {
   "cell_type": "code",
   "execution_count": 117,
   "source": [
    "# test = ' '.join(wordnet_lemmatizer)\n",
    "# print(f\"[ Keywords ]\\n{keywords(test, ratio=0.1)}\") "
   ],
   "outputs": [],
   "metadata": {}
  },
  {
   "cell_type": "code",
   "execution_count": 118,
   "source": [
    "filePath = './resume_v2.pdf'\n",
    "resumeText = extractPDFContent(filePath)\n",
    "resumeTextList = resumeText.split('\\n')"
   ],
   "outputs": [],
   "metadata": {}
  },
  {
   "cell_type": "code",
   "execution_count": 119,
   "source": [
    "# Match Score\n",
    "inputText = [resumeText, jobDespText]\n",
    "cv = CountVectorizer()\n",
    "countMatrix = cv.fit_transform(inputText)\n",
    "matchPercentage = round(cosine_similarity(countMatrix)[0][1] * 100, 2)\n",
    "print(f\"[ Resume Match Score ]\\n{matchPercentage}\")"
   ],
   "outputs": [
    {
     "output_type": "stream",
     "name": "stdout",
     "text": [
      "[ Resume Match Score ]\n",
      "65.78\n"
     ]
    }
   ],
   "metadata": {}
  },
  {
   "cell_type": "code",
   "execution_count": 120,
   "source": [
    "print(f\"[ Summary ]\\n{summarize(jobDespText, ratio=0.1)}\")"
   ],
   "outputs": [
    {
     "output_type": "stream",
     "name": "stdout",
     "text": [
      "[ Summary ]\n",
      "We are looking for a Data Scientist who will support our product, sales, leadership and marketing teams with insights gained from analyzing company data.\n",
      "The ideal candidate is adept at using large data sets to find opportunities for product and process optimization and using models to test the effectiveness of different courses of action.\n",
      "Mine and analyze data from company databases to drive optimization and improvement of product development, marketing techniques and business strategies.\n"
     ]
    }
   ],
   "metadata": {}
  }
 ],
 "metadata": {
  "orig_nbformat": 4,
  "language_info": {
   "name": "python",
   "version": "3.8.10",
   "mimetype": "text/x-python",
   "codemirror_mode": {
    "name": "ipython",
    "version": 3
   },
   "pygments_lexer": "ipython3",
   "nbconvert_exporter": "python",
   "file_extension": ".py"
  },
  "kernelspec": {
   "name": "python3",
   "display_name": "Python 3.8.10 64-bit (conda)"
  },
  "interpreter": {
   "hash": "83cc56e4fb676343596d0be67276f0d6d6c448e87913a0989f441102576e3583"
  }
 },
 "nbformat": 4,
 "nbformat_minor": 2
}